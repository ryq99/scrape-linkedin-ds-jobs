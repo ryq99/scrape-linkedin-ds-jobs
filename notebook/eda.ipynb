{
 "cells": [
  {
   "cell_type": "code",
   "execution_count": 1,
   "metadata": {},
   "outputs": [
    {
     "data": {
      "text/plain": [
       "'/Users/ruichenyang/projects/ds_jobs'"
      ]
     },
     "execution_count": 1,
     "metadata": {},
     "output_type": "execute_result"
    }
   ],
   "source": [
    "import os\n",
    "os.chdir(\"/Users/ruichenyang/projects/ds_jobs/\")\n",
    "os.getcwd()"
   ]
  },
  {
   "cell_type": "code",
   "execution_count": 12,
   "metadata": {},
   "outputs": [],
   "source": [
    "\n",
    "import boto3\n",
    "s3_client = boto3.client('s3')\n",
    "import awswrangler as wr\n",
    "import pandas as pd\n",
    "import numpy as np\n",
    "\n",
    "from openai import OpenAI\n",
    "ai_client = OpenAI()\n",
    "\n",
    "bucket = \"datascience-linkedin-job-scrape\""
   ]
  },
  {
   "cell_type": "code",
   "execution_count": 13,
   "metadata": {},
   "outputs": [],
   "source": [
    "def list_all_objects(bucket, prefix):\n",
    "    continuation_token = None\n",
    "    fpaths = []\n",
    "\n",
    "    while True:\n",
    "        kwargs = {\n",
    "            'Bucket': bucket,\n",
    "            'Prefix': prefix,\n",
    "        }\n",
    "        if continuation_token:\n",
    "            kwargs.update({'ContinuationToken': continuation_token})\n",
    "            \n",
    "        response = s3_client.list_objects_v2(**kwargs)\n",
    "        if response.get('Contents'):\n",
    "            for c in response['Contents']:\n",
    "                fpaths.append(c['Key'])\n",
    "        \n",
    "        continuation_token = response.get('NextContinuationToken')\n",
    "\n",
    "        if continuation_token is None:\n",
    "            break\n",
    "\n",
    "    return fpaths"
   ]
  },
  {
   "cell_type": "code",
   "execution_count": 14,
   "metadata": {},
   "outputs": [],
   "source": [
    "fpaths = list_all_objects(bucket, prefix='data')"
   ]
  },
  {
   "cell_type": "code",
   "execution_count": 15,
   "metadata": {},
   "outputs": [],
   "source": [
    "ds_jobs = []\n",
    "for f in fpaths[:1]:\n",
    "    data = wr.s3.read_csv(path=f\"s3://{bucket}/{f}\").assign(**{'scrape_dt': lambda x: f.split(\"_\")[-1][:-4]})\n",
    "    ds_jobs.append(data)"
   ]
  },
  {
   "cell_type": "code",
   "execution_count": 16,
   "metadata": {},
   "outputs": [],
   "source": [
    "df = pd.concat(ds_jobs, axis=0).loc[lambda x: ~x['company'].isnull()].sort_values(by=['company', 'scrape_dt']).reset_index(drop=True)"
   ]
  },
  {
   "cell_type": "code",
   "execution_count": 17,
   "metadata": {},
   "outputs": [
    {
     "data": {
      "text/html": [
       "<div>\n",
       "<style scoped>\n",
       "    .dataframe tbody tr th:only-of-type {\n",
       "        vertical-align: middle;\n",
       "    }\n",
       "\n",
       "    .dataframe tbody tr th {\n",
       "        vertical-align: top;\n",
       "    }\n",
       "\n",
       "    .dataframe thead th {\n",
       "        text-align: right;\n",
       "    }\n",
       "</style>\n",
       "<table border=\"1\" class=\"dataframe\">\n",
       "  <thead>\n",
       "    <tr style=\"text-align: right;\">\n",
       "      <th></th>\n",
       "      <th>company</th>\n",
       "      <th>position</th>\n",
       "      <th>location</th>\n",
       "      <th>full_text</th>\n",
       "      <th>details</th>\n",
       "      <th>post_date</th>\n",
       "      <th>scrape_dt</th>\n",
       "    </tr>\n",
       "  </thead>\n",
       "  <tbody>\n",
       "    <tr>\n",
       "      <th>0</th>\n",
       "      <td>23andMe</td>\n",
       "      <td>Scientist II, Statistical Genetics</td>\n",
       "      <td>Sunnyvale, CA</td>\n",
       "      <td>Scientist II, Statistical Genetics, 23andMe, S...</td>\n",
       "      <td>About the job\\n23andMe is looking for a quanti...</td>\n",
       "      <td>NaN</td>\n",
       "      <td>2023-03-09</td>\n",
       "    </tr>\n",
       "    <tr>\n",
       "      <th>1</th>\n",
       "      <td>7-Eleven</td>\n",
       "      <td>Senior UI Developer</td>\n",
       "      <td>Texas, United States</td>\n",
       "      <td>Senior UI Developer, 7-Eleven, Texas, United S...</td>\n",
       "      <td>About the job\\nExpertise in Node.JS developmen...</td>\n",
       "      <td>NaN</td>\n",
       "      <td>2023-03-09</td>\n",
       "    </tr>\n",
       "    <tr>\n",
       "      <th>2</th>\n",
       "      <td>ACS Solutions</td>\n",
       "      <td>Bioprocess Associate</td>\n",
       "      <td>Gaithersburg, MD</td>\n",
       "      <td>Bioprocess Associate, ACS Solutions, Gaithersb...</td>\n",
       "      <td>About the job\\nPosition - Associate Scientist/...</td>\n",
       "      <td>NaN</td>\n",
       "      <td>2023-03-09</td>\n",
       "    </tr>\n",
       "    <tr>\n",
       "      <th>3</th>\n",
       "      <td>AMDG Architects</td>\n",
       "      <td>Project Coordinator</td>\n",
       "      <td>Grand Rapids, MI</td>\n",
       "      <td>Project Coordinator, AMDG Architects, Grand Ra...</td>\n",
       "      <td>About the job\\n\\nAMDG Architects is looking fo...</td>\n",
       "      <td>NaN</td>\n",
       "      <td>2023-03-09</td>\n",
       "    </tr>\n",
       "    <tr>\n",
       "      <th>4</th>\n",
       "      <td>ASAPP</td>\n",
       "      <td>Speech Scientist-Language Technology</td>\n",
       "      <td>Mountain View, CA</td>\n",
       "      <td>Speech Scientist-Language Technology, ASAPP, M...</td>\n",
       "      <td>About the job\\nAt ASAPP, we’re on a mission to...</td>\n",
       "      <td>NaN</td>\n",
       "      <td>2023-03-09</td>\n",
       "    </tr>\n",
       "  </tbody>\n",
       "</table>\n",
       "</div>"
      ],
      "text/plain": [
       "           company                              position  \\\n",
       "0          23andMe    Scientist II, Statistical Genetics   \n",
       "1         7-Eleven                   Senior UI Developer   \n",
       "2    ACS Solutions                  Bioprocess Associate   \n",
       "3  AMDG Architects                   Project Coordinator   \n",
       "4            ASAPP  Speech Scientist-Language Technology   \n",
       "\n",
       "               location                                          full_text  \\\n",
       "0         Sunnyvale, CA  Scientist II, Statistical Genetics, 23andMe, S...   \n",
       "1  Texas, United States  Senior UI Developer, 7-Eleven, Texas, United S...   \n",
       "2      Gaithersburg, MD  Bioprocess Associate, ACS Solutions, Gaithersb...   \n",
       "3      Grand Rapids, MI  Project Coordinator, AMDG Architects, Grand Ra...   \n",
       "4     Mountain View, CA  Speech Scientist-Language Technology, ASAPP, M...   \n",
       "\n",
       "                                             details post_date   scrape_dt  \n",
       "0  About the job\\n23andMe is looking for a quanti...       NaN  2023-03-09  \n",
       "1  About the job\\nExpertise in Node.JS developmen...       NaN  2023-03-09  \n",
       "2  About the job\\nPosition - Associate Scientist/...       NaN  2023-03-09  \n",
       "3  About the job\\n\\nAMDG Architects is looking fo...       NaN  2023-03-09  \n",
       "4  About the job\\nAt ASAPP, we’re on a mission to...       NaN  2023-03-09  "
      ]
     },
     "execution_count": 17,
     "metadata": {},
     "output_type": "execute_result"
    }
   ],
   "source": [
    "df.head()"
   ]
  },
  {
   "cell_type": "code",
   "execution_count": 18,
   "metadata": {},
   "outputs": [
    {
     "name": "stdout",
     "output_type": "stream",
     "text": [
      "About the job\n",
      "23andMe is looking for a quantitative scientist with extensive experience in statistical analysis of human genetics data to join our research team. You will develop and apply statistical methods in order to derive insights from 23andMe’s large-scale genetic and phenotypic datasets, with a focus on pleiotropy and disease modeling. You will work cross-functionally with research and therapeutics scientists to support target discovery and validation efforts.\n",
      "\n",
      "With the world’s largest database of more than ten million genotyped customers, 23andMe is at the forefront of using human genetics to advance biomedical research and transform healthcare. Join our growing research team in translating genetic discoveries into insights into molecular biology of human traits and diseases.\n",
      "\n",
      "Who We Are\n",
      "\n",
      "Since 2006, 23andMe’s mission has been to help people access, understand, and benefit from the human genome. We are a group of passionate individuals pushing the boundaries of what’s possible to help turn genetic insight into better health and personal understanding.\n",
      "\n",
      "What You’ll Do\n",
      "\n",
      "Develop or use software for the statistical analyses of large-scale genomic and phenotypic datasets\n",
      "Analyze genetic variants associated with specific inherited traits, and across multiple traits\n",
      "Model phenotypes of interest to derive genetic insights and therapeutic hypotheses\n",
      "Work collaboratively with members of the Research, Therapeutics, and Engineering teams to develop the research platform\n",
      "Regularly present and communicate research to internal stakeholders\n",
      "Represent the 23andMe research team at scientific conferences\n",
      "\n",
      "What You’ll Bring\n",
      "\n",
      "PhD in Statistics, Statistical Genetics, Computational Biology, Computer Science or a related quantitative field.\n",
      "Research experience in immune/autoimmune or cardiometabolic diseases.\n",
      "Experience in writing robust code in a shared development environment.\n",
      "Hands-on experience working with very large datasets in R and Python, C++ experience is a plus\n",
      "Strong interpersonal, verbal and written communication skills.\n",
      "Ability to work in a dynamic team-oriented environment\n",
      "\n",
      "Strongly Preferred\n",
      "\n",
      "2+ years of postdoctoral experience\n",
      "\n",
      "About Us\n",
      "\n",
      "23andMe, Inc. is the leading consumer genetics and research company. Founded in 2006, the mission of the company is to help people access, understand, and benefit from the human genome. The company was named by Glassdoor as one of the Best Places to Work in 2019, MIT Technology Review to its “50 Smartest Companies, 2017” list, and named one of Fast Company’s “25 Brands That Matter Now, 2017”. 23andMe has millions of customers worldwide, with more than 80 percent of customers consented to participate in research. More information is available at www.23andMe.com.\n",
      "\n",
      "At 23andMe, we value a diverse, inclusive workforce and we provide equal employment opportunity for all applicants and employees. All qualified applicants for employment will be considered without regard to an individual’s race, color, sex, gender identity, gender expression, religion, age, national origin or ancestry, citizenship, physical or mental disability, medical condition, family care status, marital status, domestic partner status, sexual orientation, genetic information, military or veteran status, or any other basis protected by federal, state or local laws. If you are unable to submit your application because of incompatible assistive technology or a disability, please contact us at accomodations-ext@23andme.com. 23andMe will reasonably accommodate qualified individuals with disabilities to the extent required by applicable law.\n",
      "\n",
      "Please note: 23andMe does not accept agency resumes and we are not responsible for any fees related to unsolicited resumes. Thank you.\n",
      "\n",
      "Pay Transparency\n",
      "\n",
      "23andMe takes a market-based approach to pay, and amounts will vary depending on your geographic location. The salary range reflected here is for a candidate based in the San Francisco Bay Area. The successful candidate’s starting pay will be determined based on job-related skills, experience, qualifications, work location, and market conditions. These ranges may be modified in the future.\n",
      "\n",
      "San Francisco Bay Area Base Pay Range\n",
      "\n",
      "$145,000—$217,000 USD\n"
     ]
    }
   ],
   "source": [
    "print(df['details'].values[0])"
   ]
  },
  {
   "cell_type": "code",
   "execution_count": 19,
   "metadata": {},
   "outputs": [],
   "source": [
    "test_jd = df['details'].values[0]"
   ]
  },
  {
   "cell_type": "code",
   "execution_count": 20,
   "metadata": {},
   "outputs": [],
   "source": [
    "completion = ai_client.chat.completions.create(\n",
    "    model=\"gpt-3.5-turbo\", \n",
    "    messages=[\n",
    "        {\"role\": \"system\", \"content\": \"You are a hiring manager, skilled in summarizing and extracting key business domain information and technical skills out of the text.\"},\n",
    "        {\"role\": \"user\", \"content\": f\"given the following job description: {test_jd} (the end of the job description), can you extract the technical skills\"}\n",
    "    ]\n",
    ")"
   ]
  },
  {
   "cell_type": "code",
   "execution_count": 21,
   "metadata": {},
   "outputs": [
    {
     "name": "stdout",
     "output_type": "stream",
     "text": [
      "ChatCompletionMessage(content='- Extensive experience in statistical analysis of human genetics data\\n- Development and application of statistical methods\\n- Pleiotropy and disease modeling\\n- Software development for statistical analysis of large-scale genomic and phenotypic datasets\\n- Analyzing genetic variants associated with specific inherited traits and across multiple traits\\n- Modeling phenotypes to derive genetic insights and therapeutic hypotheses\\n- Working with large datasets in R and Python, with C++ experience as a plus', role='assistant', function_call=None, tool_calls=None)\n"
     ]
    }
   ],
   "source": [
    "print(completion.choices[0].message)"
   ]
  },
  {
   "cell_type": "code",
   "execution_count": 28,
   "metadata": {},
   "outputs": [
    {
     "name": "stdout",
     "output_type": "stream",
     "text": [
      "- Extensive experience in statistical analysis of human genetics data\n",
      "- Development and application of statistical methods\n",
      "- Pleiotropy and disease modeling\n",
      "- Software development for statistical analysis of large-scale genomic and phenotypic datasets\n",
      "- Analyzing genetic variants associated with specific inherited traits and across multiple traits\n",
      "- Modeling phenotypes to derive genetic insights and therapeutic hypotheses\n",
      "- Working with large datasets in R and Python, with C++ experience as a plus\n"
     ]
    }
   ],
   "source": [
    "print(completion.choices[0].message.content)"
   ]
  },
  {
   "cell_type": "code",
   "execution_count": null,
   "metadata": {},
   "outputs": [],
   "source": []
  }
 ],
 "metadata": {
  "kernelspec": {
   "display_name": "Python 3.10.5 ('ds_jobs_env_3.10')",
   "language": "python",
   "name": "python3"
  },
  "language_info": {
   "codemirror_mode": {
    "name": "ipython",
    "version": 3
   },
   "file_extension": ".py",
   "mimetype": "text/x-python",
   "name": "python",
   "nbconvert_exporter": "python",
   "pygments_lexer": "ipython3",
   "version": "3.9.13"
  },
  "orig_nbformat": 4,
  "vscode": {
   "interpreter": {
    "hash": "4aeaa119254348cd17de728a248aab71c191f1739dbad2cf94bfe2392223d52e"
   }
  }
 },
 "nbformat": 4,
 "nbformat_minor": 2
}

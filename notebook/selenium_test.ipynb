{
 "cells": [
  {
   "cell_type": "code",
   "execution_count": 2,
   "metadata": {},
   "outputs": [
    {
     "name": "stdout",
     "output_type": "stream",
     "text": [
      "/Users/ruichenyang/projects/ds_jobs\n"
     ]
    }
   ],
   "source": [
    "import os\n",
    "print(os.getcwd())\n",
    "import time\n",
    "import pandas as pd\n",
    "import dill as pkl\n",
    "from selenium import webdriver\n",
    "from selenium.webdriver.firefox.service import Service as FirefoxService\n",
    "from webdriver_manager.firefox import GeckoDriverManager\n",
    "from selenium.webdriver.common.by import By\n",
    "from selenium.webdriver.common.keys import Keys\n",
    "\n",
    "keywords = \"data scientist\"\n",
    "location = \"california\"\n",
    "date = pd.to_datetime(\"today\").strftime(\"%Y-%m-%d\")\n",
    "n_pages = 20"
   ]
  },
  {
   "cell_type": "code",
   "execution_count": 128,
   "metadata": {},
   "outputs": [],
   "source": [
    "def scroll_to(driver, job_list_item):\n",
    "    \"\"\"Scroll to the list item in the column\"\"\"\n",
    "    driver.execute_script(\"arguments[0].scrollIntoView();\", job_list_item)\n",
    "    job_list_item.click()\n",
    "    time.sleep(5)"
   ]
  },
  {
   "cell_type": "code",
   "execution_count": 136,
   "metadata": {},
   "outputs": [
    {
     "name": "stdout",
     "output_type": "stream",
     "text": [
      "\n"
     ]
    },
    {
     "name": "stderr",
     "output_type": "stream",
     "text": [
      "[WDM] - ====== WebDriver manager ======\n"
     ]
    },
    {
     "name": "stdout",
     "output_type": "stream",
     "text": [
      "2022-07-16 21:14:23,861 INFO ====== WebDriver manager ======\n"
     ]
    },
    {
     "name": "stderr",
     "output_type": "stream",
     "text": [
      "[WDM] - Current firefox version is 102.0\n"
     ]
    },
    {
     "name": "stdout",
     "output_type": "stream",
     "text": [
      "2022-07-16 21:14:24,003 INFO Current firefox version is 102.0\n"
     ]
    },
    {
     "name": "stderr",
     "output_type": "stream",
     "text": [
      "[WDM] - Get LATEST geckodriver version for 102.0 firefox\n"
     ]
    },
    {
     "name": "stdout",
     "output_type": "stream",
     "text": [
      "2022-07-16 21:14:24,005 INFO Get LATEST geckodriver version for 102.0 firefox\n"
     ]
    },
    {
     "name": "stderr",
     "output_type": "stream",
     "text": [
      "[WDM] - Driver [/Users/ruichenyang/.wdm/drivers/geckodriver/macos-aarch64/v0.31.0/geckodriver] found in cache\n"
     ]
    },
    {
     "name": "stdout",
     "output_type": "stream",
     "text": [
      "2022-07-16 21:14:24,597 INFO Driver [/Users/ruichenyang/.wdm/drivers/geckodriver/macos-aarch64/v0.31.0/geckodriver] found in cache\n"
     ]
    }
   ],
   "source": [
    "driver = webdriver.Firefox(service=FirefoxService(GeckoDriverManager().install()))\n",
    "\n",
    "email = \"yrc602@gmail.com\"\n",
    "password = \"y0a6n0g2\"\n",
    "#actions.login(driver, email, password)\n",
    "\n",
    "### Go to linkedin and login\n",
    "driver.get(\"https://www.linkedin.com/login\")\n",
    "time.sleep(3)\n",
    "driver.find_element(by=By.ID, value=\"username\").send_keys(email)\n",
    "driver.find_element(by=By.ID, value=\"password\").send_keys(password)\n",
    "driver.find_element(by=By.ID, value=\"password\").send_keys(Keys.RETURN)\n",
    "\n",
    "### Go to jobs page\n",
    "time.sleep(3)\n",
    "driver.get(\"https://www.linkedin.com/jobs/\")\n",
    "time.sleep(3)"
   ]
  },
  {
   "cell_type": "code",
   "execution_count": 137,
   "metadata": {},
   "outputs": [],
   "source": [
    "keywords = \"data scientist\"\n",
    "location = \"culver city\"\n",
    "\n",
    "# insert keywords\n",
    "search_bars = driver.find_elements(by=By.CLASS_NAME, value=\"jobs-search-box__text-input\")\n",
    "search_keywords = search_bars[0]\n",
    "search_keywords.send_keys(keywords)\n",
    "search_keywords.send_keys(Keys.RETURN)\n",
    "time.sleep(3)\n",
    "# insert location\n",
    "search_bars_rel = driver.find_elements(by=By.CLASS_NAME, value=\"jobs-search-box__text-input\")\n",
    "search_location = search_bars_rel[3]\n",
    "search_location.clear()\n",
    "search_location.send_keys(location)\n",
    "search_location.send_keys(Keys.RETURN)"
   ]
  },
  {
   "cell_type": "code",
   "execution_count": 138,
   "metadata": {},
   "outputs": [],
   "source": [
    "job_list = driver.find_elements(by=By.CLASS_NAME, value=\"occludable-update\")"
   ]
  },
  {
   "cell_type": "code",
   "execution_count": 141,
   "metadata": {},
   "outputs": [
    {
     "data": {
      "text/plain": [
       "'li'"
      ]
     },
     "execution_count": 141,
     "metadata": {},
     "output_type": "execute_result"
    }
   ],
   "source": [
    "job_list[0]"
   ]
  },
  {
   "cell_type": "code",
   "execution_count": 152,
   "metadata": {},
   "outputs": [],
   "source": [
    "scroll_to(driver, job_list[4])"
   ]
  },
  {
   "cell_type": "code",
   "execution_count": 169,
   "metadata": {},
   "outputs": [
    {
     "data": {
      "text/plain": [
       "'6 days ago'"
      ]
     },
     "execution_count": 169,
     "metadata": {},
     "output_type": "execute_result"
    }
   ],
   "source": [
    "job_list[11].find_elements(by=By.TAG_NAME, value=\"time\")[0].text"
   ]
  },
  {
   "cell_type": "code",
   "execution_count": null,
   "metadata": {},
   "outputs": [],
   "source": []
  }
 ],
 "metadata": {
  "kernelspec": {
   "display_name": "Python 3.10.5 ('ds_jobs_env_3.10')",
   "language": "python",
   "name": "python3"
  },
  "language_info": {
   "codemirror_mode": {
    "name": "ipython",
    "version": 3
   },
   "file_extension": ".py",
   "mimetype": "text/x-python",
   "name": "python",
   "nbconvert_exporter": "python",
   "pygments_lexer": "ipython3",
   "version": "3.10.5"
  },
  "orig_nbformat": 4,
  "vscode": {
   "interpreter": {
    "hash": "4aeaa119254348cd17de728a248aab71c191f1739dbad2cf94bfe2392223d52e"
   }
  }
 },
 "nbformat": 4,
 "nbformat_minor": 2
}
